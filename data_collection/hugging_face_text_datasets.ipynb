{
  "cells": [
    {
      "cell_type": "markdown",
      "metadata": {
        "id": "view-in-github",
        "colab_type": "text"
      },
      "source": [
        "<a href=\"https://colab.research.google.com/github/SucharitaGorai/Registration_form/blob/main/data_collection/hugging_face_text_datasets.ipynb\" target=\"_parent\"><img src=\"https://colab.research.google.com/assets/colab-badge.svg\" alt=\"Open In Colab\"/></a>"
      ]
    },
    {
      "cell_type": "code",
      "execution_count": null,
      "metadata": {
        "id": "UuJjRGDUj6dI"
      },
      "outputs": [],
      "source": [
        "from datasets import load_dataset\n",
        "from tqdm.auto import tqdm\n",
        "import json\n",
        "import re\n",
        "import sign_language_translator as slt\n",
        "lang = slt.languages.text.Urdu()\n",
        "symbols = \"\".join(lang.SYMBOLS)"
      ]
    },
    {
      "cell_type": "markdown",
      "metadata": {
        "id": "iu1cFyoTj6dK"
      },
      "source": [
        "## Download `Urdu`"
      ]
    },
    {
      "cell_type": "code",
      "execution_count": null,
      "metadata": {
        "id": "zVHouujRj6dL"
      },
      "outputs": [],
      "source": [
        "ur_dates = [\"20230901\", \"20230920\", \"20231001\", \"20231020\", \"20231101\", \"20231120\", \"20231201\", \"20231220\", \"20240101\", \"20240120\"]"
      ]
    },
    {
      "cell_type": "code",
      "execution_count": null,
      "metadata": {
        "id": "pe4ryfeOj6dL"
      },
      "outputs": [],
      "source": [
        "for d in ur_dates[:1]:\n",
        "    print(d)\n",
        "    load_dataset(\"wikipedia\", language=\"ur\", date=d, beam_runner=\"DirectRunner\", trust_remote_code=True)\n",
        "load_dataset(\"wikimedia/wikipedia\", \"20231101.ur\")  # 1.2M unique words"
      ]
    },
    {
      "cell_type": "markdown",
      "metadata": {
        "id": "H1nqOrIKj6dM"
      },
      "source": [
        "## Download `English`"
      ]
    },
    {
      "cell_type": "code",
      "execution_count": null,
      "metadata": {
        "id": "5kPmLMg9j6dM"
      },
      "outputs": [],
      "source": [
        "# English\n",
        "load_dataset(\"wikitext\", 'wikitext-103-v1')\n",
        "load_dataset(\"wikitext\", 'wikitext-2-v1')\n",
        "load_dataset(\"bookcorpus\")\n",
        "load_dataset(\"wikimedia/wikisource\", \"20231201.en\")"
      ]
    },
    {
      "cell_type": "markdown",
      "metadata": {
        "id": "X9r8V5P3j6dM"
      },
      "source": [
        "## Download `Hindi`"
      ]
    },
    {
      "cell_type": "code",
      "execution_count": null,
      "metadata": {
        "id": "6rvulATJj6dM"
      },
      "outputs": [],
      "source": [
        "hi_dates = ['20230901', '20230920', '20231001', '20231020', '20231101', '20231120', '20231201', '20231220', '20240101', '20240120']"
      ]
    },
    {
      "cell_type": "code",
      "execution_count": null,
      "metadata": {
        "id": "ur-qAEA8j6dN"
      },
      "outputs": [],
      "source": [
        "for d in hi_dates:\n",
        "    print(d)\n",
        "    load_dataset(\"wikipedia\", language=\"hi\", date=d, beam_runner=\"DirectRunner\", trust_remote_code=True)\n",
        "load_dataset(\"wikimedia/wikipedia\", \"20231101.hi\")\n",
        "load_dataset(\"wikimedia/wikisource\", \"20231201.hi\")"
      ]
    },
    {
      "cell_type": "markdown",
      "metadata": {
        "id": "CHY2v99Sj6dN"
      },
      "source": [
        "## `Save`"
      ]
    },
    {
      "cell_type": "code",
      "execution_count": null,
      "metadata": {
        "id": "qt_P_o4Uj6dN"
      },
      "outputs": [],
      "source": [
        "lines = {}\n",
        "words = {}"
      ]
    },
    {
      "cell_type": "code",
      "execution_count": null,
      "metadata": {
        "id": "l8JIf5Ndj6dO",
        "outputId": "4b7e2828-c60d-4d9e-c463-f24dca9c1ecb"
      },
      "outputs": [
        {
          "data": {
            "text/plain": [
              "DatasetDict({\n",
              "    train: Dataset({\n",
              "        features: ['id', 'url', 'title', 'text'],\n",
              "        num_rows: 200154\n",
              "    })\n",
              "})"
            ]
          },
          "execution_count": 4,
          "metadata": {},
          "output_type": "execute_result"
        }
      ],
      "source": [
        "dataset = load_dataset(\"wikimedia/wikipedia\", \"20231101.ur\")\n",
        "dataset"
      ]
    },
    {
      "cell_type": "code",
      "execution_count": null,
      "metadata": {
        "id": "nmXTp3RYj6dP",
        "outputId": "8d39438c-8bde-40ba-ee52-efb97592e9f7",
        "colab": {
          "referenced_widgets": [
            "b6d0ee3b80bc4cd8bb27de9e828ef9be"
          ]
        }
      },
      "outputs": [
        {
          "data": {
            "application/vnd.jupyter.widget-view+json": {
              "model_id": "b6d0ee3b80bc4cd8bb27de9e828ef9be",
              "version_major": 2,
              "version_minor": 0
            },
            "text/plain": [
              "  0%|          | 0/200154 [00:00<?, ?it/s]"
            ]
          },
          "metadata": {},
          "output_type": "display_data"
        },
        {
          "data": {
            "text/plain": [
              "(1340954, 4159209)"
            ]
          },
          "execution_count": 5,
          "metadata": {},
          "output_type": "execute_result"
        }
      ],
      "source": [
        "for row in (bar:=tqdm(dataset[\"train\"])):\n",
        "    for l in row[\"text\"].splitlines():\n",
        "        l = l.strip()\n",
        "        lines[l] = lines.get(l, 0) + 1\n",
        "    for l in row[\"title\"].splitlines():\n",
        "        l = l.strip()\n",
        "        lines[l] = lines.get(l, 0) + 1\n",
        "len(lines), sum(lines.values())"
      ]
    },
    {
      "cell_type": "code",
      "execution_count": null,
      "metadata": {
        "id": "jprIjk8jj6dP",
        "outputId": "4deb7be3-8675-43ff-fb49-ccaf75078cfa"
      },
      "outputs": [
        {
          "name": "stdout",
          "output_type": "stream",
          "text": [
            "20230901\t1347354 8259897\n",
            "20230920\t1347517 12373826\n",
            "20231001\t1347631 16498572\n",
            "20231020\t1347765 20647286\n",
            "20231101\t1347765 24806563\n",
            "20231120\t1357873 28987707\n",
            "20231201\t1363371 33180229\n",
            "20231220\t1371244 37384207\n",
            "20240101\t1380331 41606119\n",
            "20240120\t1517672 45841011\n"
          ]
        }
      ],
      "source": [
        "for d in ur_dates[:]:\n",
        "    print(d, end=\"\\t\")\n",
        "    dataset = load_dataset(\"wikipedia\", language=\"ur\", date=d, beam_runner=\"DirectRunner\", trust_remote_code=True)\n",
        "    for row in dataset[\"train\"]:\n",
        "        for l in row[\"text\"].splitlines():  #! new line can mark end/start of a sentence\n",
        "            l = l.strip()\n",
        "            lines[l] = lines.get(l, 0) + 1\n",
        "        for l in row[\"title\"].splitlines():\n",
        "            l = l.strip()\n",
        "            lines[l] = lines.get(l, 0) + 1\n",
        "    print(len(lines), sum(lines.values()))"
      ]
    },
    {
      "cell_type": "code",
      "execution_count": null,
      "metadata": {
        "id": "1lcXqH5Bj6dP"
      },
      "outputs": [],
      "source": [
        "sorted_lines = (sorted(lines.items(), key=lambda x: x[1], reverse=True))\n",
        "len(sorted_lines), sorted_lines[100:200], sorted_lines[-1000:-900]"
      ]
    },
    {
      "cell_type": "code",
      "execution_count": null,
      "metadata": {
        "id": "UntiQ2txj6dQ"
      },
      "outputs": [],
      "source": [
        "import json\n",
        "base=\"/Users/mudassar.iqbal/Library/CloudStorage/GoogleDrive-mdsriqb@gmail.com/My Drive/sign-language-translator/sign-language-datasets/temp/temp/raw_corpora\"\n",
        "with open(base+\"/ur_wikipedia_lines.json\", 'w', encoding=\"utf-8\")as f:\n",
        "    json.dump(dict(sorted_lines), f, ensure_ascii=False, indent=0)\n",
        "    # json.dump(dict([l for l in sorted_lines if l[1]>50]), f, ensure_ascii=False, indent=0)"
      ]
    },
    {
      "cell_type": "code",
      "execution_count": null,
      "metadata": {
        "id": "OvXthnHaj6dQ"
      },
      "outputs": [],
      "source": []
    }
  ],
  "metadata": {
    "kernelspec": {
      "display_name": "slt",
      "language": "python",
      "name": "python3"
    },
    "language_info": {
      "codemirror_mode": {
        "name": "ipython",
        "version": 3
      },
      "file_extension": ".py",
      "mimetype": "text/x-python",
      "name": "python",
      "nbconvert_exporter": "python",
      "pygments_lexer": "ipython3",
      "version": "3.11.8"
    },
    "colab": {
      "provenance": [],
      "include_colab_link": true
    }
  },
  "nbformat": 4,
  "nbformat_minor": 0
}